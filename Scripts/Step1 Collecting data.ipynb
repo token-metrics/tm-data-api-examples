{
 "cells": [
  {
   "attachments": {},
   "cell_type": "markdown",
   "metadata": {},
   "source": [
    "# Step1 Collecting Data"
   ]
  },
  {
   "attachments": {},
   "cell_type": "markdown",
   "metadata": {},
   "source": [
    "## Obtain the coins index from the `Tokens` endpoint"
   ]
  },
  {
   "cell_type": "code",
   "execution_count": 1,
   "metadata": {},
   "outputs": [],
   "source": [
    "import requests\n",
    "from pandas import json_normalize\n",
    "from urllib.parse import urlencode\n",
    "\n",
    "from typing import Dict, List, Union, Optional, Any\n",
    "\n",
    "import warnings\n",
    "warnings.filterwarnings(\"ignore\")"
   ]
  },
  {
   "cell_type": "code",
   "execution_count": 2,
   "metadata": {},
   "outputs": [],
   "source": [
    "API_key = '<Your API Key>'\n",
    "\n",
    "def tm_API(endpoint: str, payload: Optional[Dict[str, Any]] = None) -> Dict[str, Any]:\n",
    "\t\"\"\"Obtain data from the Token Metrics Data API\n",
    "\n",
    "\tArgs:\n",
    "\t\tendpoint (str): The endpoint of the API\n",
    "\t\tpayload (Optional[Dict[str, Any]], optional): The parameters to send to the API. Defaults to None.\n",
    "\n",
    "\tReturns:\n",
    "\t\tDict[str, Any]: The response from the API\n",
    "\t\"\"\"\n",
    "\n",
    "\tif payload:\n",
    "\t\turl = 'https://alpha.data-api.tokenmetrics.com/v1/' + endpoint + '?' + urlencode(payload)\n",
    "\telse:\n",
    "\t\turl = 'https://alpha.data-api.tokenmetrics.com/v1/' + endpoint \n",
    "\theaders = {'Accept': 'application/json', 'Content-Type': 'application/json', 'api_key': API_key}\n",
    "\tresponse = requests.get(url, headers=headers)\n",
    "\treturn response.json()"
   ]
  },
  {
   "cell_type": "code",
   "execution_count": 3,
   "metadata": {},
   "outputs": [],
   "source": [
    "endpoint = 'tokens'\n",
    "params = {}\n",
    "response = tm_API(endpoint,params)\n",
    "coins = json_normalize(response['data'])\n",
    "coins = coins.sort_values(by = 'TOKEN_ID').reset_index(drop = True)"
   ]
  },
  {
   "cell_type": "code",
   "execution_count": 23,
   "metadata": {},
   "outputs": [
    {
     "data": {
      "text/html": [
       "<div>\n",
       "<style scoped>\n",
       "    .dataframe tbody tr th:only-of-type {\n",
       "        vertical-align: middle;\n",
       "    }\n",
       "\n",
       "    .dataframe tbody tr th {\n",
       "        vertical-align: top;\n",
       "    }\n",
       "\n",
       "    .dataframe thead th {\n",
       "        text-align: right;\n",
       "    }\n",
       "</style>\n",
       "<table border=\"1\" class=\"dataframe\">\n",
       "  <thead>\n",
       "    <tr style=\"text-align: right;\">\n",
       "      <th></th>\n",
       "      <th>TOKEN_ID</th>\n",
       "      <th>SYMBOL</th>\n",
       "      <th>NAME</th>\n",
       "    </tr>\n",
       "  </thead>\n",
       "  <tbody>\n",
       "    <tr>\n",
       "      <th>0</th>\n",
       "      <td>3306</td>\n",
       "      <td>ETH</td>\n",
       "      <td>Ethereum</td>\n",
       "    </tr>\n",
       "    <tr>\n",
       "      <th>1</th>\n",
       "      <td>3375</td>\n",
       "      <td>BTC</td>\n",
       "      <td>Bitcoin</td>\n",
       "    </tr>\n",
       "    <tr>\n",
       "      <th>2</th>\n",
       "      <td>3377</td>\n",
       "      <td>LTC</td>\n",
       "      <td>Litecoin</td>\n",
       "    </tr>\n",
       "  </tbody>\n",
       "</table>\n",
       "</div>"
      ],
      "text/plain": [
       "   TOKEN_ID SYMBOL      NAME\n",
       "0      3306    ETH  Ethereum\n",
       "1      3375    BTC   Bitcoin\n",
       "2      3377    LTC  Litecoin"
      ]
     },
     "execution_count": 23,
     "metadata": {},
     "output_type": "execute_result"
    }
   ],
   "source": [
    "coins[coins.NAME.isin(['Bitcoin','Ethereum','Litecoin'])].reset_index(drop = True)"
   ]
  },
  {
   "attachments": {},
   "cell_type": "markdown",
   "metadata": {},
   "source": [
    "## Obtain the market data for the `BTC`"
   ]
  },
  {
   "cell_type": "code",
   "execution_count": 24,
   "metadata": {},
   "outputs": [],
   "source": [
    "import pandas as pd\n",
    "import datetime as dt\n",
    "import requests\n",
    "\n",
    "import seaborn as sns\n",
    "import matplotlib.pyplot as plt\n",
    "\n",
    "sns.set_theme(style=\"darkgrid\")"
   ]
  },
  {
   "cell_type": "code",
   "execution_count": 28,
   "metadata": {},
   "outputs": [
    {
     "data": {
      "text/html": [
       "<div>\n",
       "<style scoped>\n",
       "    .dataframe tbody tr th:only-of-type {\n",
       "        vertical-align: middle;\n",
       "    }\n",
       "\n",
       "    .dataframe tbody tr th {\n",
       "        vertical-align: top;\n",
       "    }\n",
       "\n",
       "    .dataframe thead th {\n",
       "        text-align: right;\n",
       "    }\n",
       "</style>\n",
       "<table border=\"1\" class=\"dataframe\">\n",
       "  <thead>\n",
       "    <tr style=\"text-align: right;\">\n",
       "      <th></th>\n",
       "      <th>Date</th>\n",
       "      <th>Open</th>\n",
       "      <th>High</th>\n",
       "      <th>Low</th>\n",
       "      <th>Close</th>\n",
       "      <th>Volume</th>\n",
       "    </tr>\n",
       "  </thead>\n",
       "  <tbody>\n",
       "    <tr>\n",
       "      <th>0</th>\n",
       "      <td>2020-05-03</td>\n",
       "      <td>8973.85</td>\n",
       "      <td>9196.27</td>\n",
       "      <td>8718.08</td>\n",
       "      <td>8887.35</td>\n",
       "      <td>210.049083</td>\n",
       "    </tr>\n",
       "    <tr>\n",
       "      <th>1</th>\n",
       "      <td>2020-05-04</td>\n",
       "      <td>8896.62</td>\n",
       "      <td>8954.26</td>\n",
       "      <td>8528.63</td>\n",
       "      <td>8868.92</td>\n",
       "      <td>198.322480</td>\n",
       "    </tr>\n",
       "    <tr>\n",
       "      <th>2</th>\n",
       "      <td>2020-05-05</td>\n",
       "      <td>8878.25</td>\n",
       "      <td>9105.20</td>\n",
       "      <td>8772.22</td>\n",
       "      <td>9027.64</td>\n",
       "      <td>133.862430</td>\n",
       "    </tr>\n",
       "    <tr>\n",
       "      <th>3</th>\n",
       "      <td>2020-05-06</td>\n",
       "      <td>9022.44</td>\n",
       "      <td>9396.16</td>\n",
       "      <td>8918.99</td>\n",
       "      <td>9145.93</td>\n",
       "      <td>242.577093</td>\n",
       "    </tr>\n",
       "    <tr>\n",
       "      <th>4</th>\n",
       "      <td>2020-05-07</td>\n",
       "      <td>9132.52</td>\n",
       "      <td>10063.93</td>\n",
       "      <td>9010.00</td>\n",
       "      <td>9991.11</td>\n",
       "      <td>340.351689</td>\n",
       "    </tr>\n",
       "    <tr>\n",
       "      <th>...</th>\n",
       "      <td>...</td>\n",
       "      <td>...</td>\n",
       "      <td>...</td>\n",
       "      <td>...</td>\n",
       "      <td>...</td>\n",
       "      <td>...</td>\n",
       "    </tr>\n",
       "    <tr>\n",
       "      <th>995</th>\n",
       "      <td>2023-01-23</td>\n",
       "      <td>22710.87</td>\n",
       "      <td>23173.98</td>\n",
       "      <td>22514.16</td>\n",
       "      <td>22915.06</td>\n",
       "      <td>2640.997861</td>\n",
       "    </tr>\n",
       "    <tr>\n",
       "      <th>996</th>\n",
       "      <td>2023-01-24</td>\n",
       "      <td>22913.74</td>\n",
       "      <td>23157.50</td>\n",
       "      <td>22473.84</td>\n",
       "      <td>22631.85</td>\n",
       "      <td>2143.908361</td>\n",
       "    </tr>\n",
       "    <tr>\n",
       "      <th>997</th>\n",
       "      <td>2023-01-25</td>\n",
       "      <td>22639.70</td>\n",
       "      <td>23809.38</td>\n",
       "      <td>22340.00</td>\n",
       "      <td>23055.67</td>\n",
       "      <td>2197.009498</td>\n",
       "    </tr>\n",
       "    <tr>\n",
       "      <th>998</th>\n",
       "      <td>2023-01-26</td>\n",
       "      <td>23071.15</td>\n",
       "      <td>23274.74</td>\n",
       "      <td>22858.60</td>\n",
       "      <td>23005.88</td>\n",
       "      <td>1193.341499</td>\n",
       "    </tr>\n",
       "    <tr>\n",
       "      <th>999</th>\n",
       "      <td>2023-01-27</td>\n",
       "      <td>23006.98</td>\n",
       "      <td>23493.40</td>\n",
       "      <td>22580.00</td>\n",
       "      <td>23067.18</td>\n",
       "      <td>1626.405074</td>\n",
       "    </tr>\n",
       "  </tbody>\n",
       "</table>\n",
       "<p>1000 rows × 6 columns</p>\n",
       "</div>"
      ],
      "text/plain": [
       "           Date      Open      High       Low     Close       Volume\n",
       "0    2020-05-03   8973.85   9196.27   8718.08   8887.35   210.049083\n",
       "1    2020-05-04   8896.62   8954.26   8528.63   8868.92   198.322480\n",
       "2    2020-05-05   8878.25   9105.20   8772.22   9027.64   133.862430\n",
       "3    2020-05-06   9022.44   9396.16   8918.99   9145.93   242.577093\n",
       "4    2020-05-07   9132.52  10063.93   9010.00   9991.11   340.351689\n",
       "..          ...       ...       ...       ...       ...          ...\n",
       "995  2023-01-23  22710.87  23173.98  22514.16  22915.06  2640.997861\n",
       "996  2023-01-24  22913.74  23157.50  22473.84  22631.85  2143.908361\n",
       "997  2023-01-25  22639.70  23809.38  22340.00  23055.67  2197.009498\n",
       "998  2023-01-26  23071.15  23274.74  22858.60  23005.88  1193.341499\n",
       "999  2023-01-27  23006.98  23493.40  22580.00  23067.18  1626.405074\n",
       "\n",
       "[1000 rows x 6 columns]"
      ]
     },
     "execution_count": 28,
     "metadata": {},
     "output_type": "execute_result"
    }
   ],
   "source": [
    "# Obtain data from the Binance US API\n",
    "params = {'symbol': 'BTCUSDT', \n",
    "       'interval': '1d', \n",
    "       'startTime': int(dt.datetime(2020,5,2).timestamp())*1000,\n",
    "       'endTime': int(dt.datetime(2023,1,28).timestamp())*1000,\n",
    "       'limit': 1000}\n",
    "r = requests.get('https://api.binance.us/api/v3/klines', params = params).json()\n",
    "\n",
    "# Convert to pandas dataframe\n",
    "col = ['Open time','Open','High','Low','Close','Volume','Close time','Quote asset volume','Number of trades',\n",
    "       'Taker buy volume','Taker buy quote asset volume','Ignore']\n",
    "btcusdt = pd.DataFrame(r, columns = col)\n",
    "\n",
    "btcusdt['Open time'] = btcusdt['Open time'].apply(lambda x: dt.datetime.fromtimestamp(x/1000)).dt.strftime('%Y-%m-%d')\n",
    "btcusdt['Close time'] = btcusdt['Close time'].apply(lambda x: dt.datetime.fromtimestamp(x/1000)).dt.strftime('%Y-%m-%d')\n",
    "\n",
    "# Clean up the data\n",
    "btcusdt.rename(columns = {'Close time': 'Date'}, inplace = True)\n",
    "btcusdt[['Open', 'High', 'Low', 'Close', 'Volume']] = btcusdt[['Open', 'High', 'Low', 'Close', 'Volume']].astype(float)\n",
    "btcusdt = btcusdt[['Date','Open', 'High', 'Low', 'Close', 'Volume']]\n",
    "btcusdt\n"
   ]
  },
  {
   "cell_type": "code",
   "execution_count": 30,
   "metadata": {},
   "outputs": [
    {
     "data": {
      "image/png": "[encoded data removed]",
      "text/plain": [
       "<Figure size 720x360 with 1 Axes>"
      ]
     },
     "metadata": {},
     "output_type": "display_data"
    }
   ],
   "source": [
    "fig = plt.figure(figsize=(10,5))\n",
    "sns.lineplot(x=pd.to_datetime(btcusdt['Date']), y=btcusdt['Close'])\n",
    "plt.title('BTC/USDT')\n",
    "plt.savefig('../Plots/btcust.png')"
   ]
  },
  {
   "attachments": {},
   "cell_type": "markdown",
   "metadata": {},
   "source": [
    "## Obtain the `trader-grades`"
   ]
  },
  {
   "cell_type": "code",
   "execution_count": 16,
   "metadata": {},
   "outputs": [],
   "source": [
    "endpoint = 'trader-grades'\n",
    "params = {\n",
    "\t'tokens': '3375',\n",
    "\t'startDate': '2020-05-03T00:00:00.000Z',\n",
    "\t'endDate': '2023-01-27T00:00:00.000Z',\n",
    "\t'limit': 1000\n",
    "\n",
    "}\n",
    "r = tm_API(endpoint,params)\n",
    "trader_grades = json_normalize(r['data'])"
   ]
  },
  {
   "cell_type": "code",
   "execution_count": 17,
   "metadata": {},
   "outputs": [],
   "source": [
    "# select the columns we want\n",
    "btc_tg = trader_grades[['DATE','TA_GRADE','QUANT_GRADE','TM_TRADER_GRADE',]]\n",
    "\n",
    "# merge the data\n",
    "data = pd.merge(btc_tg, btcusdt, left_on='DATE', right_on='Date', how='left').drop('Date', axis=1)\n",
    "\n",
    "# do some transformations\n",
    "data['DATE'] = pd.to_datetime(data['DATE'])"
   ]
  },
  {
   "cell_type": "code",
   "execution_count": 18,
   "metadata": {},
   "outputs": [],
   "source": [
    "data['DayReturnPCT'] = (data.Close/data.Close.shift(-1) - 1)*100\n",
    "data['ta_gradePCT'] = (data['TA_GRADE']/data['TA_GRADE'].shift(-1) - 1)*100\n",
    "data['quant_gradePCT'] = (data['QUANT_GRADE']/data['QUANT_GRADE'].shift(-1) - 1)*100\n",
    "data['tm_trader_gradePCT'] = (data['TM_TRADER_GRADE']/data['TM_TRADER_GRADE'].shift(-1) - 1)*100\n",
    "data['DailyReturnPCT'] = (data.Close/data.Open - 1)*100"
   ]
  },
  {
   "cell_type": "code",
   "execution_count": 19,
   "metadata": {},
   "outputs": [
    {
     "name": "stdout",
     "output_type": "stream",
     "text": [
      "<class 'pandas.core.frame.DataFrame'>\n",
      "Int64Index: 748 entries, 0 to 747\n",
      "Data columns (total 14 columns):\n",
      " #   Column              Non-Null Count  Dtype         \n",
      "---  ------              --------------  -----         \n",
      " 0   DATE                748 non-null    datetime64[ns]\n",
      " 1   TA_GRADE            747 non-null    float64       \n",
      " 2   QUANT_GRADE         747 non-null    float64       \n",
      " 3   TM_TRADER_GRADE     746 non-null    float64       \n",
      " 4   Open                748 non-null    float64       \n",
      " 5   High                748 non-null    float64       \n",
      " 6   Low                 748 non-null    float64       \n",
      " 7   Close               748 non-null    float64       \n",
      " 8   Volume              748 non-null    float64       \n",
      " 9   DayReturnPCT        747 non-null    float64       \n",
      " 10  ta_gradePCT         745 non-null    float64       \n",
      " 11  quant_gradePCT      745 non-null    float64       \n",
      " 12  tm_trader_gradePCT  743 non-null    float64       \n",
      " 13  DailyReturnPCT      748 non-null    float64       \n",
      "dtypes: datetime64[ns](1), float64(13)\n",
      "memory usage: 87.7 KB\n"
     ]
    }
   ],
   "source": [
    "data.info()"
   ]
  },
  {
   "cell_type": "code",
   "execution_count": 21,
   "metadata": {},
   "outputs": [],
   "source": [
    "data.to_csv('../Data/btc_tg.csv', index=False)"
   ]
  }
 ],
 "metadata": {
  "kernelspec": {
   "display_name": "Python 3.9.7 ('crypto')",
   "language": "python",
   "name": "python3"
  },
  "language_info": {
   "codemirror_mode": {
    "name": "ipython",
    "version": 3
   },
   "file_extension": ".py",
   "mimetype": "text/x-python",
   "name": "python",
   "nbconvert_exporter": "python",
   "pygments_lexer": "ipython3",
   "version": "3.9.7"
  },
  "orig_nbformat": 4,
  "vscode": {
   "interpreter": {
    "hash": "49d36bf8f308fcd0d0af20a32289761844991a0cfca113b146939afeff6ce995"
   }
  }
 },
 "nbformat": 4,
 "nbformat_minor": 2
}
